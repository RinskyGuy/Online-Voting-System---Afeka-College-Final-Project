{
 "cells": [
  {
   "cell_type": "markdown",
   "id": "43b7eb5e",
   "metadata": {},
   "source": [
    "# **Face Recognition Thresholds**"
   ]
  },
  {
   "cell_type": "code",
   "execution_count": 25,
   "id": "64acb7dd",
   "metadata": {},
   "outputs": [],
   "source": [
    "from metrics import get_metrics, get_best_thresholds, plot\n",
    "import pandas as pd\n",
    "import os"
   ]
  },
  {
   "cell_type": "markdown",
   "id": "2c32c2f9",
   "metadata": {},
   "source": [
    "## **Load distances**"
   ]
  },
  {
   "cell_type": "code",
   "execution_count": 26,
   "id": "7d2cd0d2",
   "metadata": {},
   "outputs": [
    {
     "data": {
      "text/html": [
       "<div>\n",
       "<style scoped>\n",
       "    .dataframe tbody tr th:only-of-type {\n",
       "        vertical-align: middle;\n",
       "    }\n",
       "\n",
       "    .dataframe tbody tr th {\n",
       "        vertical-align: top;\n",
       "    }\n",
       "\n",
       "    .dataframe thead th {\n",
       "        text-align: right;\n",
       "    }\n",
       "</style>\n",
       "<table border=\"1\" class=\"dataframe\">\n",
       "  <thead>\n",
       "    <tr style=\"text-align: right;\">\n",
       "      <th></th>\n",
       "      <th>facenet_dist</th>\n",
       "      <th>vgg_dist</th>\n",
       "      <th>facenet_time</th>\n",
       "      <th>vgg_time</th>\n",
       "      <th>match</th>\n",
       "    </tr>\n",
       "  </thead>\n",
       "  <tbody>\n",
       "    <tr>\n",
       "      <th>0</th>\n",
       "      <td>24.508040</td>\n",
       "      <td>0.520904</td>\n",
       "      <td>0.240575</td>\n",
       "      <td>0.038348</td>\n",
       "      <td>True</td>\n",
       "    </tr>\n",
       "    <tr>\n",
       "      <th>1</th>\n",
       "      <td>28.040610</td>\n",
       "      <td>0.600208</td>\n",
       "      <td>0.229247</td>\n",
       "      <td>0.039940</td>\n",
       "      <td>False</td>\n",
       "    </tr>\n",
       "    <tr>\n",
       "      <th>2</th>\n",
       "      <td>23.558570</td>\n",
       "      <td>0.508896</td>\n",
       "      <td>0.219444</td>\n",
       "      <td>0.038528</td>\n",
       "      <td>True</td>\n",
       "    </tr>\n",
       "    <tr>\n",
       "      <th>3</th>\n",
       "      <td>29.532011</td>\n",
       "      <td>0.717450</td>\n",
       "      <td>0.225616</td>\n",
       "      <td>0.038903</td>\n",
       "      <td>False</td>\n",
       "    </tr>\n",
       "    <tr>\n",
       "      <th>4</th>\n",
       "      <td>21.581303</td>\n",
       "      <td>0.481852</td>\n",
       "      <td>0.225613</td>\n",
       "      <td>0.037996</td>\n",
       "      <td>True</td>\n",
       "    </tr>\n",
       "    <tr>\n",
       "      <th>...</th>\n",
       "      <td>...</td>\n",
       "      <td>...</td>\n",
       "      <td>...</td>\n",
       "      <td>...</td>\n",
       "      <td>...</td>\n",
       "    </tr>\n",
       "    <tr>\n",
       "      <th>37361</th>\n",
       "      <td>31.128546</td>\n",
       "      <td>0.590861</td>\n",
       "      <td>0.207412</td>\n",
       "      <td>0.030267</td>\n",
       "      <td>False</td>\n",
       "    </tr>\n",
       "    <tr>\n",
       "      <th>37362</th>\n",
       "      <td>22.488188</td>\n",
       "      <td>0.567506</td>\n",
       "      <td>0.216335</td>\n",
       "      <td>0.029988</td>\n",
       "      <td>True</td>\n",
       "    </tr>\n",
       "    <tr>\n",
       "      <th>37363</th>\n",
       "      <td>29.033200</td>\n",
       "      <td>0.676969</td>\n",
       "      <td>0.251622</td>\n",
       "      <td>0.032648</td>\n",
       "      <td>False</td>\n",
       "    </tr>\n",
       "    <tr>\n",
       "      <th>37364</th>\n",
       "      <td>23.829893</td>\n",
       "      <td>0.511831</td>\n",
       "      <td>0.218633</td>\n",
       "      <td>0.029822</td>\n",
       "      <td>True</td>\n",
       "    </tr>\n",
       "    <tr>\n",
       "      <th>37365</th>\n",
       "      <td>20.154654</td>\n",
       "      <td>0.605709</td>\n",
       "      <td>0.214003</td>\n",
       "      <td>0.029240</td>\n",
       "      <td>False</td>\n",
       "    </tr>\n",
       "  </tbody>\n",
       "</table>\n",
       "<p>37366 rows × 5 columns</p>\n",
       "</div>"
      ],
      "text/plain": [
       "       facenet_dist  vgg_dist  facenet_time  vgg_time  match\n",
       "0         24.508040  0.520904      0.240575  0.038348   True\n",
       "1         28.040610  0.600208      0.229247  0.039940  False\n",
       "2         23.558570  0.508896      0.219444  0.038528   True\n",
       "3         29.532011  0.717450      0.225616  0.038903  False\n",
       "4         21.581303  0.481852      0.225613  0.037996   True\n",
       "...             ...       ...           ...       ...    ...\n",
       "37361     31.128546  0.590861      0.207412  0.030267  False\n",
       "37362     22.488188  0.567506      0.216335  0.029988   True\n",
       "37363     29.033200  0.676969      0.251622  0.032648  False\n",
       "37364     23.829893  0.511831      0.218633  0.029822   True\n",
       "37365     20.154654  0.605709      0.214003  0.029240  False\n",
       "\n",
       "[37366 rows x 5 columns]"
      ]
     },
     "execution_count": 26,
     "metadata": {},
     "output_type": "execute_result"
    }
   ],
   "source": [
    "distances = pd.read_csv(r'D:\\computer vision and deep learning\\final project\\doc generation\\authetication\\face_recognition\\face_rec_distances.csv')\n",
    "distances"
   ]
  },
  {
   "cell_type": "markdown",
   "id": "f326be5d",
   "metadata": {},
   "source": [
    "## **Split FaceNet and VGG distance**"
   ]
  },
  {
   "cell_type": "code",
   "execution_count": 27,
   "id": "c08f17d7",
   "metadata": {},
   "outputs": [
    {
     "data": {
      "text/html": [
       "<div>\n",
       "<style scoped>\n",
       "    .dataframe tbody tr th:only-of-type {\n",
       "        vertical-align: middle;\n",
       "    }\n",
       "\n",
       "    .dataframe tbody tr th {\n",
       "        vertical-align: top;\n",
       "    }\n",
       "\n",
       "    .dataframe thead th {\n",
       "        text-align: right;\n",
       "    }\n",
       "</style>\n",
       "<table border=\"1\" class=\"dataframe\">\n",
       "  <thead>\n",
       "    <tr style=\"text-align: right;\">\n",
       "      <th></th>\n",
       "      <th>dist</th>\n",
       "      <th>time</th>\n",
       "      <th>match</th>\n",
       "    </tr>\n",
       "  </thead>\n",
       "  <tbody>\n",
       "    <tr>\n",
       "      <th>0</th>\n",
       "      <td>24.508040</td>\n",
       "      <td>0.240575</td>\n",
       "      <td>True</td>\n",
       "    </tr>\n",
       "    <tr>\n",
       "      <th>1</th>\n",
       "      <td>28.040610</td>\n",
       "      <td>0.229247</td>\n",
       "      <td>False</td>\n",
       "    </tr>\n",
       "    <tr>\n",
       "      <th>2</th>\n",
       "      <td>23.558570</td>\n",
       "      <td>0.219444</td>\n",
       "      <td>True</td>\n",
       "    </tr>\n",
       "    <tr>\n",
       "      <th>3</th>\n",
       "      <td>29.532011</td>\n",
       "      <td>0.225616</td>\n",
       "      <td>False</td>\n",
       "    </tr>\n",
       "    <tr>\n",
       "      <th>4</th>\n",
       "      <td>21.581303</td>\n",
       "      <td>0.225613</td>\n",
       "      <td>True</td>\n",
       "    </tr>\n",
       "    <tr>\n",
       "      <th>...</th>\n",
       "      <td>...</td>\n",
       "      <td>...</td>\n",
       "      <td>...</td>\n",
       "    </tr>\n",
       "    <tr>\n",
       "      <th>37361</th>\n",
       "      <td>31.128546</td>\n",
       "      <td>0.207412</td>\n",
       "      <td>False</td>\n",
       "    </tr>\n",
       "    <tr>\n",
       "      <th>37362</th>\n",
       "      <td>22.488188</td>\n",
       "      <td>0.216335</td>\n",
       "      <td>True</td>\n",
       "    </tr>\n",
       "    <tr>\n",
       "      <th>37363</th>\n",
       "      <td>29.033200</td>\n",
       "      <td>0.251622</td>\n",
       "      <td>False</td>\n",
       "    </tr>\n",
       "    <tr>\n",
       "      <th>37364</th>\n",
       "      <td>23.829893</td>\n",
       "      <td>0.218633</td>\n",
       "      <td>True</td>\n",
       "    </tr>\n",
       "    <tr>\n",
       "      <th>37365</th>\n",
       "      <td>20.154654</td>\n",
       "      <td>0.214003</td>\n",
       "      <td>False</td>\n",
       "    </tr>\n",
       "  </tbody>\n",
       "</table>\n",
       "<p>37366 rows × 3 columns</p>\n",
       "</div>"
      ],
      "text/plain": [
       "            dist      time  match\n",
       "0      24.508040  0.240575   True\n",
       "1      28.040610  0.229247  False\n",
       "2      23.558570  0.219444   True\n",
       "3      29.532011  0.225616  False\n",
       "4      21.581303  0.225613   True\n",
       "...          ...       ...    ...\n",
       "37361  31.128546  0.207412  False\n",
       "37362  22.488188  0.216335   True\n",
       "37363  29.033200  0.251622  False\n",
       "37364  23.829893  0.218633   True\n",
       "37365  20.154654  0.214003  False\n",
       "\n",
       "[37366 rows x 3 columns]"
      ]
     },
     "execution_count": 27,
     "metadata": {},
     "output_type": "execute_result"
    }
   ],
   "source": [
    "facenet_distances = distances.drop(columns=['vgg_dist', 'vgg_time']).rename(columns={'facenet_dist':'dist', 'facenet_time':'time'})\n",
    "facenet_distances"
   ]
  },
  {
   "cell_type": "code",
   "execution_count": 28,
   "id": "4f0a99dc",
   "metadata": {},
   "outputs": [
    {
     "data": {
      "text/html": [
       "<div>\n",
       "<style scoped>\n",
       "    .dataframe tbody tr th:only-of-type {\n",
       "        vertical-align: middle;\n",
       "    }\n",
       "\n",
       "    .dataframe tbody tr th {\n",
       "        vertical-align: top;\n",
       "    }\n",
       "\n",
       "    .dataframe thead th {\n",
       "        text-align: right;\n",
       "    }\n",
       "</style>\n",
       "<table border=\"1\" class=\"dataframe\">\n",
       "  <thead>\n",
       "    <tr style=\"text-align: right;\">\n",
       "      <th></th>\n",
       "      <th>dist</th>\n",
       "      <th>time</th>\n",
       "      <th>match</th>\n",
       "    </tr>\n",
       "  </thead>\n",
       "  <tbody>\n",
       "    <tr>\n",
       "      <th>0</th>\n",
       "      <td>0.520904</td>\n",
       "      <td>0.038348</td>\n",
       "      <td>True</td>\n",
       "    </tr>\n",
       "    <tr>\n",
       "      <th>1</th>\n",
       "      <td>0.600208</td>\n",
       "      <td>0.039940</td>\n",
       "      <td>False</td>\n",
       "    </tr>\n",
       "    <tr>\n",
       "      <th>2</th>\n",
       "      <td>0.508896</td>\n",
       "      <td>0.038528</td>\n",
       "      <td>True</td>\n",
       "    </tr>\n",
       "    <tr>\n",
       "      <th>3</th>\n",
       "      <td>0.717450</td>\n",
       "      <td>0.038903</td>\n",
       "      <td>False</td>\n",
       "    </tr>\n",
       "    <tr>\n",
       "      <th>4</th>\n",
       "      <td>0.481852</td>\n",
       "      <td>0.037996</td>\n",
       "      <td>True</td>\n",
       "    </tr>\n",
       "    <tr>\n",
       "      <th>...</th>\n",
       "      <td>...</td>\n",
       "      <td>...</td>\n",
       "      <td>...</td>\n",
       "    </tr>\n",
       "    <tr>\n",
       "      <th>37361</th>\n",
       "      <td>0.590861</td>\n",
       "      <td>0.030267</td>\n",
       "      <td>False</td>\n",
       "    </tr>\n",
       "    <tr>\n",
       "      <th>37362</th>\n",
       "      <td>0.567506</td>\n",
       "      <td>0.029988</td>\n",
       "      <td>True</td>\n",
       "    </tr>\n",
       "    <tr>\n",
       "      <th>37363</th>\n",
       "      <td>0.676969</td>\n",
       "      <td>0.032648</td>\n",
       "      <td>False</td>\n",
       "    </tr>\n",
       "    <tr>\n",
       "      <th>37364</th>\n",
       "      <td>0.511831</td>\n",
       "      <td>0.029822</td>\n",
       "      <td>True</td>\n",
       "    </tr>\n",
       "    <tr>\n",
       "      <th>37365</th>\n",
       "      <td>0.605709</td>\n",
       "      <td>0.029240</td>\n",
       "      <td>False</td>\n",
       "    </tr>\n",
       "  </tbody>\n",
       "</table>\n",
       "<p>37366 rows × 3 columns</p>\n",
       "</div>"
      ],
      "text/plain": [
       "           dist      time  match\n",
       "0      0.520904  0.038348   True\n",
       "1      0.600208  0.039940  False\n",
       "2      0.508896  0.038528   True\n",
       "3      0.717450  0.038903  False\n",
       "4      0.481852  0.037996   True\n",
       "...         ...       ...    ...\n",
       "37361  0.590861  0.030267  False\n",
       "37362  0.567506  0.029988   True\n",
       "37363  0.676969  0.032648  False\n",
       "37364  0.511831  0.029822   True\n",
       "37365  0.605709  0.029240  False\n",
       "\n",
       "[37366 rows x 3 columns]"
      ]
     },
     "execution_count": 28,
     "metadata": {},
     "output_type": "execute_result"
    }
   ],
   "source": [
    "vgg_distances = distances.drop(columns=['facenet_dist', 'facenet_time']).rename(columns={'vgg_dist':'dist', 'vgg_time':'time'})\n",
    "vgg_distances"
   ]
  },
  {
   "cell_type": "markdown",
   "id": "fa94b51b",
   "metadata": {},
   "source": [
    "## **Get thresholds**"
   ]
  },
  {
   "cell_type": "code",
   "execution_count": 29,
   "id": "8aa9ec74",
   "metadata": {},
   "outputs": [],
   "source": [
    "def get_thresholds(distances):\n",
    "    true_distances = distances[distances['match']==True].drop(columns=['match', 'time'])\n",
    "    false_distances = distances[distances['match']==False].drop(columns=['match', 'time'])\n",
    "    \n",
    "    field = {'name':'dist', \n",
    "             'mean': true_distances.dist.mean(), \n",
    "             'std': true_distances.dist.std(), \n",
    "             'upper_bound': false_distances.dist.mean()}\n",
    "\n",
    "    metrics = get_metrics(true_distances, false_distances, [field])\n",
    "    \n",
    "    return metrics\n",
    "\n",
    "def plot_dists(distances):\n",
    "    true_distances = distances[distances['match']==True].drop(columns=['match', 'time'])\n",
    "    false_distances = distances[distances['match']==False].drop(columns=['match', 'time'])\n",
    "    \n",
    "    plot(true_distances, false_distances)"
   ]
  },
  {
   "cell_type": "markdown",
   "id": "c2fa0402",
   "metadata": {},
   "source": [
    "### **FaceNet**"
   ]
  },
  {
   "cell_type": "code",
   "execution_count": 30,
   "id": "d16b22fb",
   "metadata": {},
   "outputs": [
    {
     "data": {
      "image/png": "[encoded data removed]",
      "text/plain": [
       "<Figure size 2160x360 with 2 Axes>"
      ]
     },
     "metadata": {
      "needs_background": "light"
     },
     "output_type": "display_data"
    }
   ],
   "source": [
    "plot_dists(facenet_distances)"
   ]
  },
  {
   "cell_type": "code",
   "execution_count": 31,
   "id": "e4471c5a",
   "metadata": {},
   "outputs": [
    {
     "data": {
      "text/html": [
       "<div>\n",
       "<style scoped>\n",
       "    .dataframe tbody tr th:only-of-type {\n",
       "        vertical-align: middle;\n",
       "    }\n",
       "\n",
       "    .dataframe tbody tr th {\n",
       "        vertical-align: top;\n",
       "    }\n",
       "\n",
       "    .dataframe thead th {\n",
       "        text-align: right;\n",
       "    }\n",
       "</style>\n",
       "<table border=\"1\" class=\"dataframe\">\n",
       "  <thead>\n",
       "    <tr style=\"text-align: right;\">\n",
       "      <th></th>\n",
       "      <th>dist_thresh</th>\n",
       "      <th>%tp</th>\n",
       "      <th>%fn</th>\n",
       "      <th>%tn</th>\n",
       "      <th>%fp</th>\n",
       "      <th>accuracy</th>\n",
       "      <th>f1_score</th>\n",
       "      <th>precision</th>\n",
       "      <th>recall</th>\n",
       "    </tr>\n",
       "  </thead>\n",
       "  <tbody>\n",
       "    <tr>\n",
       "      <th>0</th>\n",
       "      <td>21.434205</td>\n",
       "      <td>51.4371</td>\n",
       "      <td>48.5629</td>\n",
       "      <td>97.0026</td>\n",
       "      <td>2.9974</td>\n",
       "      <td>0.742199</td>\n",
       "      <td>0.666135</td>\n",
       "      <td>0.944936</td>\n",
       "      <td>0.514371</td>\n",
       "    </tr>\n",
       "    <tr>\n",
       "      <th>1</th>\n",
       "      <td>24.980500</td>\n",
       "      <td>83.1451</td>\n",
       "      <td>16.8549</td>\n",
       "      <td>79.4626</td>\n",
       "      <td>20.5374</td>\n",
       "      <td>0.813039</td>\n",
       "      <td>0.816419</td>\n",
       "      <td>0.801920</td>\n",
       "      <td>0.831451</td>\n",
       "    </tr>\n",
       "  </tbody>\n",
       "</table>\n",
       "</div>"
      ],
      "text/plain": [
       "   dist_thresh      %tp      %fn      %tn      %fp  accuracy  f1_score  \\\n",
       "0    21.434205  51.4371  48.5629  97.0026   2.9974  0.742199  0.666135   \n",
       "1    24.980500  83.1451  16.8549  79.4626  20.5374  0.813039  0.816419   \n",
       "\n",
       "   precision    recall  \n",
       "0   0.944936  0.514371  \n",
       "1   0.801920  0.831451  "
      ]
     },
     "execution_count": 31,
     "metadata": {},
     "output_type": "execute_result"
    }
   ],
   "source": [
    "metrics = get_thresholds(facenet_distances)\n",
    "metrics.head()"
   ]
  },
  {
   "cell_type": "code",
   "execution_count": 32,
   "id": "074bcb29",
   "metadata": {},
   "outputs": [
    {
     "data": {
      "text/html": [
       "<div>\n",
       "<style scoped>\n",
       "    .dataframe tbody tr th:only-of-type {\n",
       "        vertical-align: middle;\n",
       "    }\n",
       "\n",
       "    .dataframe tbody tr th {\n",
       "        vertical-align: top;\n",
       "    }\n",
       "\n",
       "    .dataframe thead th {\n",
       "        text-align: right;\n",
       "    }\n",
       "</style>\n",
       "<table border=\"1\" class=\"dataframe\">\n",
       "  <thead>\n",
       "    <tr style=\"text-align: right;\">\n",
       "      <th></th>\n",
       "      <th>dist_thresh</th>\n",
       "      <th>%tp</th>\n",
       "      <th>%fn</th>\n",
       "      <th>%tn</th>\n",
       "      <th>%fp</th>\n",
       "      <th>accuracy</th>\n",
       "      <th>f1_score</th>\n",
       "      <th>precision</th>\n",
       "      <th>recall</th>\n",
       "    </tr>\n",
       "  </thead>\n",
       "  <tbody>\n",
       "    <tr>\n",
       "      <th>1</th>\n",
       "      <td>24.9805</td>\n",
       "      <td>83.1451</td>\n",
       "      <td>16.8549</td>\n",
       "      <td>79.4626</td>\n",
       "      <td>20.5374</td>\n",
       "      <td>0.813039</td>\n",
       "      <td>0.816419</td>\n",
       "      <td>0.80192</td>\n",
       "      <td>0.831451</td>\n",
       "    </tr>\n",
       "  </tbody>\n",
       "</table>\n",
       "</div>"
      ],
      "text/plain": [
       "   dist_thresh      %tp      %fn      %tn      %fp  accuracy  f1_score  \\\n",
       "1      24.9805  83.1451  16.8549  79.4626  20.5374  0.813039  0.816419   \n",
       "\n",
       "   precision    recall  \n",
       "1    0.80192  0.831451  "
      ]
     },
     "execution_count": 32,
     "metadata": {},
     "output_type": "execute_result"
    }
   ],
   "source": [
    "get_best_thresholds(metrics, ['accuracy', 'f1_score'])"
   ]
  },
  {
   "cell_type": "code",
   "execution_count": 34,
   "id": "0214a352",
   "metadata": {},
   "outputs": [
    {
     "name": "stdout",
     "output_type": "stream",
     "text": [
      "FaceNet mean recognition time: 0.22525297603878738\n"
     ]
    }
   ],
   "source": [
    "print(f'FaceNet mean recognition time: {facenet_distances.time.mean()}')"
   ]
  },
  {
   "cell_type": "markdown",
   "id": "77f8091b",
   "metadata": {},
   "source": [
    "### **VGGFace**"
   ]
  },
  {
   "cell_type": "code",
   "execution_count": 22,
   "id": "5832fccb",
   "metadata": {},
   "outputs": [
    {
     "data": {
      "image/png": "[encoded data removed]",
      "text/plain": [
       "<Figure size 2160x360 with 2 Axes>"
      ]
     },
     "metadata": {
      "needs_background": "light"
     },
     "output_type": "display_data"
    }
   ],
   "source": [
    "plot_dists(vgg_distances)"
   ]
  },
  {
   "cell_type": "code",
   "execution_count": 23,
   "id": "ea422205",
   "metadata": {},
   "outputs": [
    {
     "data": {
      "text/html": [
       "<div>\n",
       "<style scoped>\n",
       "    .dataframe tbody tr th:only-of-type {\n",
       "        vertical-align: middle;\n",
       "    }\n",
       "\n",
       "    .dataframe tbody tr th {\n",
       "        vertical-align: top;\n",
       "    }\n",
       "\n",
       "    .dataframe thead th {\n",
       "        text-align: right;\n",
       "    }\n",
       "</style>\n",
       "<table border=\"1\" class=\"dataframe\">\n",
       "  <thead>\n",
       "    <tr style=\"text-align: right;\">\n",
       "      <th></th>\n",
       "      <th>dist_thresh</th>\n",
       "      <th>%tp</th>\n",
       "      <th>%fn</th>\n",
       "      <th>%tn</th>\n",
       "      <th>%fp</th>\n",
       "      <th>accuracy</th>\n",
       "      <th>f1_score</th>\n",
       "      <th>precision</th>\n",
       "      <th>recall</th>\n",
       "    </tr>\n",
       "  </thead>\n",
       "  <tbody>\n",
       "    <tr>\n",
       "      <th>0</th>\n",
       "      <td>0.528616</td>\n",
       "      <td>50.1793</td>\n",
       "      <td>49.8207</td>\n",
       "      <td>90.7831</td>\n",
       "      <td>9.2169</td>\n",
       "      <td>0.704812</td>\n",
       "      <td>0.629617</td>\n",
       "      <td>0.844823</td>\n",
       "      <td>0.501793</td>\n",
       "    </tr>\n",
       "    <tr>\n",
       "      <th>1</th>\n",
       "      <td>0.628197</td>\n",
       "      <td>84.0176</td>\n",
       "      <td>15.9824</td>\n",
       "      <td>55.4461</td>\n",
       "      <td>44.5539</td>\n",
       "      <td>0.697318</td>\n",
       "      <td>0.735154</td>\n",
       "      <td>0.653470</td>\n",
       "      <td>0.840176</td>\n",
       "    </tr>\n",
       "  </tbody>\n",
       "</table>\n",
       "</div>"
      ],
      "text/plain": [
       "   dist_thresh      %tp      %fn      %tn      %fp  accuracy  f1_score  \\\n",
       "0     0.528616  50.1793  49.8207  90.7831   9.2169  0.704812  0.629617   \n",
       "1     0.628197  84.0176  15.9824  55.4461  44.5539  0.697318  0.735154   \n",
       "\n",
       "   precision    recall  \n",
       "0   0.844823  0.501793  \n",
       "1   0.653470  0.840176  "
      ]
     },
     "execution_count": 23,
     "metadata": {},
     "output_type": "execute_result"
    }
   ],
   "source": [
    "metrics = get_thresholds(vgg_distances)\n",
    "metrics.head()"
   ]
  },
  {
   "cell_type": "code",
   "execution_count": 24,
   "id": "9e601c34",
   "metadata": {},
   "outputs": [
    {
     "data": {
      "text/html": [
       "<div>\n",
       "<style scoped>\n",
       "    .dataframe tbody tr th:only-of-type {\n",
       "        vertical-align: middle;\n",
       "    }\n",
       "\n",
       "    .dataframe tbody tr th {\n",
       "        vertical-align: top;\n",
       "    }\n",
       "\n",
       "    .dataframe thead th {\n",
       "        text-align: right;\n",
       "    }\n",
       "</style>\n",
       "<table border=\"1\" class=\"dataframe\">\n",
       "  <thead>\n",
       "    <tr style=\"text-align: right;\">\n",
       "      <th></th>\n",
       "      <th>dist_thresh</th>\n",
       "      <th>%tp</th>\n",
       "      <th>%fn</th>\n",
       "      <th>%tn</th>\n",
       "      <th>%fp</th>\n",
       "      <th>accuracy</th>\n",
       "      <th>f1_score</th>\n",
       "      <th>precision</th>\n",
       "      <th>recall</th>\n",
       "    </tr>\n",
       "  </thead>\n",
       "  <tbody>\n",
       "    <tr>\n",
       "      <th>0</th>\n",
       "      <td>0.528616</td>\n",
       "      <td>50.1793</td>\n",
       "      <td>49.8207</td>\n",
       "      <td>90.7831</td>\n",
       "      <td>9.2169</td>\n",
       "      <td>0.704812</td>\n",
       "      <td>0.629617</td>\n",
       "      <td>0.844823</td>\n",
       "      <td>0.501793</td>\n",
       "    </tr>\n",
       "  </tbody>\n",
       "</table>\n",
       "</div>"
      ],
      "text/plain": [
       "   dist_thresh      %tp      %fn      %tn     %fp  accuracy  f1_score  \\\n",
       "0     0.528616  50.1793  49.8207  90.7831  9.2169  0.704812  0.629617   \n",
       "\n",
       "   precision    recall  \n",
       "0   0.844823  0.501793  "
      ]
     },
     "execution_count": 24,
     "metadata": {},
     "output_type": "execute_result"
    }
   ],
   "source": [
    "get_best_thresholds(metrics, ['accuracy', 'f1_score'])"
   ]
  },
  {
   "cell_type": "code",
   "execution_count": 35,
   "id": "eec0bb49",
   "metadata": {},
   "outputs": [
    {
     "name": "stdout",
     "output_type": "stream",
     "text": [
      "VGGFace mean recognition time: 0.03422939349872131\n"
     ]
    }
   ],
   "source": [
    "print(f'VGGFace mean recognition time: {vgg_distances.time.mean()}')"
   ]
  }
 ],
 "metadata": {
  "kernelspec": {
   "display_name": "cuda_env",
   "language": "python",
   "name": "cuda_env"
  },
  "language_info": {
   "codemirror_mode": {
    "name": "ipython",
    "version": 3
   },
   "file_extension": ".py",
   "mimetype": "text/x-python",
   "name": "python",
   "nbconvert_exporter": "python",
   "pygments_lexer": "ipython3",
   "version": "3.7.10"
  }
 },
 "nbformat": 4,
 "nbformat_minor": 5
}
